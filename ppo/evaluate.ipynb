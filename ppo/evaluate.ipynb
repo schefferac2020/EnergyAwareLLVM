{
 "cells": [
  {
   "cell_type": "markdown",
   "metadata": {},
   "source": [
    "# Evaluation of Different Models"
   ]
  },
  {
   "cell_type": "code",
   "execution_count": null,
   "metadata": {},
   "outputs": [
    {
     "name": "stdout",
     "output_type": "stream",
     "text": [
      "Evaluating energy_reward_model_Nov30:\n"
     ]
    },
    {
     "name": "stderr",
     "output_type": "stream",
     "text": [
      "/n/eecs583b/home/drewskis/EnergyAwareLLVM/ppo/eval.py:112: FutureWarning: You are using `torch.load` with `weights_only=False` (the current default value), which uses the default pickle module implicitly. It is possible to construct malicious pickle data which will execute arbitrary code during unpickling (See https://github.com/pytorch/pytorch/blob/main/SECURITY.md#untrusted-models for more details). In a future release, the default value for `weights_only` will be flipped to `True`. This limits the functions that could be executed during unpickling. Arbitrary objects will no longer be allowed to be loaded via this mode unless they are explicitly allowlisted by the user via `torch.serialization.add_safe_globals`. We recommend you start setting `weights_only=True` for any use case where you don't have full control of the loaded file. Please open an issue on GitHub for any issues related to this experimental feature.\n",
      "  model.load_state_dict(torch.load(f\"models/{model_name}.model\"))\n"
     ]
    },
    {
     "name": "stdout",
     "output_type": "stream",
     "text": [
      "Environment: cbench-v1/patricia. Found max of 0.1273296018698322 and average of 0.1273296018698322 in 1 trials.\n",
      "Arithmetric mean of maxima: 0.1273296018698322\n",
      "Arithmetric mean of averages: 0.1273296018698322\n"
     ]
    }
   ],
   "source": [
    "# import gym\n",
    "# import compiler_gym\n",
    "# from compiler_gym_wrapper import env_wrapper\n",
    "# import torch\n",
    "# from ppo_algo import PPO\n",
    "# from eval import Evaluation\n",
    "\n",
    "\n",
    "# model_name = \"energy_reward_model_Nov30\" # idek what this is\n",
    "# eval_benchmarks = [\"cbench-v1/patricia\"]\n",
    "\n",
    "# # env = env_wrapper(eval_benchmarks, max_episode_steps=200, steps_in_observation=True)\n",
    "\n",
    "# geo_maxima, geo_averages, evaluate = Evaluation.evaluate(eval_benchmarks, model_name=model_name, print_progress=True,\n",
    "#                                                                 max_trials_per_benchmark=10, max_time_per_benchmark=10)\n"
   ]
  },
  {
   "cell_type": "markdown",
   "metadata": {},
   "source": [
    "### Get Baselines for O3 and Oz\n",
    "For this one, it doesn'y matter what the reward is set to in the LLVM_WRAPPER"
   ]
  },
  {
   "cell_type": "code",
   "execution_count": null,
   "metadata": {},
   "outputs": [
    {
     "name": "stdout",
     "output_type": "stream",
     "text": [
      "Evaluating Benchmarks for Instruction Count\n",
      "Evaluating -O3:\n"
     ]
    }
   ],
   "source": [
    "import gym\n",
    "import compiler_gym\n",
    "from compiler_gym_wrapper import env_wrapper\n",
    "import torch\n",
    "from ppo_algo import PPO\n",
    "from eval import Evaluation\n",
    "eval_benchmarks = [\"cbench-v1/susan\",\n",
    "                   \"cbench-v1/lame\",\n",
    "                   \"cbench-v1/stringsearch\",\n",
    "                   \"cbench-v1/blowfish\",\n",
    "                   \"cbench-v1/sha\",\n",
    "                   \"cbench-v1/gsm\"]\n",
    "\n",
    "env = env_wrapper(eval_benchmarks, max_episode_steps=200, steps_in_observation=True)\n",
    "\n",
    "# TODO: Remember to change the reward in compiler_gym_wrapper and evaluate_baseline.\n",
    "print(\"Evaluating Benchmarks for Instruction Count\")\n",
    "O3_result, O3_performances = Evaluation.evaluate_baseline(eval_benchmarks, opt_mode='-O3', reward_type=\"SIZE\")\n",
    "print(f\"O3 results: {O3_result}, {O3_performances}\")\n",
    "Oz_result, Oz_performances = Evaluation.evaluate_baseline(eval_benchmarks, opt_mode='-Oz', reward_type=\"SIZE\")\n",
    "print(f\"Oz results: {Oz_result}, {Oz_performances}\")\n",
    "\n",
    "print(\"Evaluating Benchmarks for Energy\")\n",
    "O3_result, O3_performances = Evaluation.evaluate_baseline(eval_benchmarks, opt_mode='-O3', reward_type=\"NRG\")\n",
    "print(f\"O3 results: {O3_result}, {O3_performances}\")\n",
    "Oz_result, Oz_performances = Evaluation.evaluate_baseline(eval_benchmarks, opt_mode='-Oz', reward_type=\"NRG\")\n",
    "print(f\"Oz results: {Oz_result}, {Oz_performances}\")"
   ]
  },
  {
   "cell_type": "markdown",
   "metadata": {},
   "source": [
    "### Evaluate the random policy"
   ]
  },
  {
   "cell_type": "code",
   "execution_count": 3,
   "metadata": {},
   "outputs": [
    {
     "name": "stdout",
     "output_type": "stream",
     "text": [
      "Evaluating random_policy_nrg_cbench-v1/susan:\n",
      "Environment: cbench-v1/susan. Found max of 0.12576957816274234 and average of 0.12576957816274234 in 1 trials.\n",
      "Arithmetric mean of maxima: 0.12576957816274234\n",
      "Arithmetric mean of averages: 0.12576957816274234\n",
      "Evaluating random_policy_nrg_cbench-v1/lame:\n",
      "Environment: cbench-v1/lame. Found max of 0.0007133916652544514 and average of 0.0007133916652544514 in 1 trials.\n",
      "Arithmetric mean of maxima: 0.0007133916652544514\n",
      "Arithmetric mean of averages: 0.0007133916652544514\n",
      "Evaluating random_policy_nrg_cbench-v1/stringsearch:\n",
      "Environment: cbench-v1/stringsearch. Found max of 0.0036309298425920918 and average of 0.0036309298425920918 in 1 trials.\n",
      "Arithmetric mean of maxima: 0.0036309298425920918\n",
      "Arithmetric mean of averages: 0.0036309298425920918\n",
      "Evaluating random_policy_nrg_cbench-v1/blowfish:\n",
      "Environment: cbench-v1/blowfish. Found max of 0.24901203169324074 and average of 0.24901203169324074 in 1 trials.\n",
      "Arithmetric mean of maxima: 0.24901203169324074\n",
      "Arithmetric mean of averages: 0.24901203169324074\n",
      "Evaluating random_policy_nrg_cbench-v1/sha:\n",
      "Environment: cbench-v1/sha. Found max of 0.0 and average of 0.0 in 1 trials.\n",
      "Arithmetric mean of maxima: 0.0\n",
      "Arithmetric mean of averages: 0.0\n",
      "Evaluating random_policy_nrg_cbench-v1/gsm:\n",
      "Environment: cbench-v1/gsm. Found max of 0.06926636191325677 and average of 0.06926636191325677 in 1 trials.\n",
      "Arithmetric mean of maxima: 0.06926636191325677\n",
      "Arithmetric mean of averages: 0.06926636191325677\n"
     ]
    }
   ],
   "source": [
    "eval_benchmarks = [\"cbench-v1/susan\",\n",
    "                   \"cbench-v1/lame\",\n",
    "                   \"cbench-v1/stringsearch\",\n",
    "                   \"cbench-v1/blowfish\",\n",
    "                   \"cbench-v1/sha\",\n",
    "                   \"cbench-v1/gsm\"]\n",
    "\n",
    "# for eval_benchmark in eval_benchmarks:\n",
    "#     geo_maxima, geo_averages, evaluate = Evaluation.evaluate([eval_benchmark], model_name=f\"random_policy_size_{eval_benchmark}\", is_random_policy=True, print_progress=True,\n",
    "#                                                                 max_trials_per_benchmark=1, max_time_per_benchmark=10000, reward_type=\"SIZE\")\n",
    "    \n",
    "for eval_benchmark in eval_benchmarks:\n",
    "    geo_maxima, geo_averages, evaluate = Evaluation.evaluate([eval_benchmark], model_name=f\"random_policy_nrg_{eval_benchmark}\", is_random_policy=True, print_progress=True,\n",
    "                                                                max_trials_per_benchmark=1, max_time_per_benchmark=10000, reward_type=\"NRG\")\n"
   ]
  },
  {
   "cell_type": "markdown",
   "metadata": {},
   "source": [
    "### Evaluate the OURS Energy and BOTH"
   ]
  },
  {
   "cell_type": "code",
   "execution_count": 3,
   "metadata": {},
   "outputs": [
    {
     "name": "stdout",
     "output_type": "stream",
     "text": [
      "NOTE: Evaluating a model trained to optimize both for code size and energy efficiency. Just logging NRG\n",
      "Evaluating energy_reward_model_Nov30:\n"
     ]
    },
    {
     "name": "stderr",
     "output_type": "stream",
     "text": [
      "/home/Morphabledrone/test/drew/EnergyAwareLLVM/ppo/eval.py:124: FutureWarning: You are using `torch.load` with `weights_only=False` (the current default value), which uses the default pickle module implicitly. It is possible to construct malicious pickle data which will execute arbitrary code during unpickling (See https://github.com/pytorch/pytorch/blob/main/SECURITY.md#untrusted-models for more details). In a future release, the default value for `weights_only` will be flipped to `True`. This limits the functions that could be executed during unpickling. Arbitrary objects will no longer be allowed to be loaded via this mode unless they are explicitly allowlisted by the user via `torch.serialization.add_safe_globals`. We recommend you start setting `weights_only=True` for any use case where you don't have full control of the loaded file. Please open an issue on GitHub for any issues related to this experimental feature.\n",
      "  model.load_state_dict(torch.load(f\"models/{model_name}.model\"))\n"
     ]
    },
    {
     "name": "stdout",
     "output_type": "stream",
     "text": [
      "Environment: cbench-v1/susan. Found max of 0.0 and average of 0.16051444119904285 in 1 trials.\n",
      "Arithmetric mean of maxima: 0.0\n",
      "Arithmetric mean of averages: 0.16051444119904285\n",
      "NOTE: Evaluating a model trained to optimize both for code size and energy efficiency. Just logging NRG\n",
      "Evaluating energy_reward_model_Nov30:\n"
     ]
    },
    {
     "name": "stderr",
     "output_type": "stream",
     "text": [
      "/home/Morphabledrone/test/drew/EnergyAwareLLVM/ppo/eval.py:124: FutureWarning: You are using `torch.load` with `weights_only=False` (the current default value), which uses the default pickle module implicitly. It is possible to construct malicious pickle data which will execute arbitrary code during unpickling (See https://github.com/pytorch/pytorch/blob/main/SECURITY.md#untrusted-models for more details). In a future release, the default value for `weights_only` will be flipped to `True`. This limits the functions that could be executed during unpickling. Arbitrary objects will no longer be allowed to be loaded via this mode unless they are explicitly allowlisted by the user via `torch.serialization.add_safe_globals`. We recommend you start setting `weights_only=True` for any use case where you don't have full control of the loaded file. Please open an issue on GitHub for any issues related to this experimental feature.\n",
      "  model.load_state_dict(torch.load(f\"models/{model_name}.model\"))\n"
     ]
    },
    {
     "name": "stdout",
     "output_type": "stream",
     "text": [
      "Improvement! 0.01792770052712791 -> 0\n",
      "Environment: cbench-v1/lame. Found max of 0.01792770052712791 and average of 0.0 in 1 trials.\n",
      "Arithmetric mean of maxima: 0.01792770052712791\n",
      "Arithmetric mean of averages: 0.0\n",
      "NOTE: Evaluating a model trained to optimize both for code size and energy efficiency. Just logging NRG\n",
      "Evaluating energy_reward_model_Nov30:\n"
     ]
    },
    {
     "name": "stderr",
     "output_type": "stream",
     "text": [
      "/home/Morphabledrone/test/drew/EnergyAwareLLVM/ppo/eval.py:124: FutureWarning: You are using `torch.load` with `weights_only=False` (the current default value), which uses the default pickle module implicitly. It is possible to construct malicious pickle data which will execute arbitrary code during unpickling (See https://github.com/pytorch/pytorch/blob/main/SECURITY.md#untrusted-models for more details). In a future release, the default value for `weights_only` will be flipped to `True`. This limits the functions that could be executed during unpickling. Arbitrary objects will no longer be allowed to be loaded via this mode unless they are explicitly allowlisted by the user via `torch.serialization.add_safe_globals`. We recommend you start setting `weights_only=True` for any use case where you don't have full control of the loaded file. Please open an issue on GitHub for any issues related to this experimental feature.\n",
      "  model.load_state_dict(torch.load(f\"models/{model_name}.model\"))\n"
     ]
    },
    {
     "name": "stdout",
     "output_type": "stream",
     "text": [
      "Improvement! 9.030670200681563 -> 0.022089846919456913\n",
      "Environment: cbench-v1/stringsearch. Found max of 9.030670200681563 and average of 0.022089846919456913 in 1 trials.\n",
      "Arithmetric mean of maxima: 9.030670200681563\n",
      "Arithmetric mean of averages: 0.022089846919456913\n",
      "NOTE: Evaluating a model trained to optimize both for code size and energy efficiency. Just logging NRG\n",
      "Evaluating energy_reward_model_Nov30:\n"
     ]
    },
    {
     "name": "stderr",
     "output_type": "stream",
     "text": [
      "/home/Morphabledrone/test/drew/EnergyAwareLLVM/ppo/eval.py:124: FutureWarning: You are using `torch.load` with `weights_only=False` (the current default value), which uses the default pickle module implicitly. It is possible to construct malicious pickle data which will execute arbitrary code during unpickling (See https://github.com/pytorch/pytorch/blob/main/SECURITY.md#untrusted-models for more details). In a future release, the default value for `weights_only` will be flipped to `True`. This limits the functions that could be executed during unpickling. Arbitrary objects will no longer be allowed to be loaded via this mode unless they are explicitly allowlisted by the user via `torch.serialization.add_safe_globals`. We recommend you start setting `weights_only=True` for any use case where you don't have full control of the loaded file. Please open an issue on GitHub for any issues related to this experimental feature.\n",
      "  model.load_state_dict(torch.load(f\"models/{model_name}.model\"))\n"
     ]
    },
    {
     "name": "stdout",
     "output_type": "stream",
     "text": [
      "Environment: cbench-v1/blowfish. Found max of 0.0 and average of 0.25639733933287684 in 1 trials.\n",
      "Arithmetric mean of maxima: 0.0\n",
      "Arithmetric mean of averages: 0.25639733933287684\n",
      "NOTE: Evaluating a model trained to optimize both for code size and energy efficiency. Just logging NRG\n",
      "Evaluating energy_reward_model_Nov30:\n"
     ]
    },
    {
     "name": "stderr",
     "output_type": "stream",
     "text": [
      "/home/Morphabledrone/test/drew/EnergyAwareLLVM/ppo/eval.py:124: FutureWarning: You are using `torch.load` with `weights_only=False` (the current default value), which uses the default pickle module implicitly. It is possible to construct malicious pickle data which will execute arbitrary code during unpickling (See https://github.com/pytorch/pytorch/blob/main/SECURITY.md#untrusted-models for more details). In a future release, the default value for `weights_only` will be flipped to `True`. This limits the functions that could be executed during unpickling. Arbitrary objects will no longer be allowed to be loaded via this mode unless they are explicitly allowlisted by the user via `torch.serialization.add_safe_globals`. We recommend you start setting `weights_only=True` for any use case where you don't have full control of the loaded file. Please open an issue on GitHub for any issues related to this experimental feature.\n",
      "  model.load_state_dict(torch.load(f\"models/{model_name}.model\"))\n"
     ]
    },
    {
     "name": "stdout",
     "output_type": "stream",
     "text": [
      "Improvement! 40.56084967045878 -> 0.00034633306746148333\n",
      "Environment: cbench-v1/sha. Found max of 40.56084967045878 and average of 0.00034633306746148333 in 1 trials.\n",
      "Arithmetric mean of maxima: 40.56084967045878\n",
      "Arithmetric mean of averages: 0.00034633306746148333\n",
      "NOTE: Evaluating a model trained to optimize both for code size and energy efficiency. Just logging NRG\n",
      "Evaluating energy_reward_model_Nov30:\n"
     ]
    },
    {
     "name": "stderr",
     "output_type": "stream",
     "text": [
      "/home/Morphabledrone/test/drew/EnergyAwareLLVM/ppo/eval.py:124: FutureWarning: You are using `torch.load` with `weights_only=False` (the current default value), which uses the default pickle module implicitly. It is possible to construct malicious pickle data which will execute arbitrary code during unpickling (See https://github.com/pytorch/pytorch/blob/main/SECURITY.md#untrusted-models for more details). In a future release, the default value for `weights_only` will be flipped to `True`. This limits the functions that could be executed during unpickling. Arbitrary objects will no longer be allowed to be loaded via this mode unless they are explicitly allowlisted by the user via `torch.serialization.add_safe_globals`. We recommend you start setting `weights_only=True` for any use case where you don't have full control of the loaded file. Please open an issue on GitHub for any issues related to this experimental feature.\n",
      "  model.load_state_dict(torch.load(f\"models/{model_name}.model\"))\n"
     ]
    },
    {
     "name": "stdout",
     "output_type": "stream",
     "text": [
      "Environment: cbench-v1/gsm. Found max of 0.0 and average of 0.1172125947045113 in 1 trials.\n",
      "Arithmetric mean of maxima: 0.0\n",
      "Arithmetric mean of averages: 0.1172125947045113\n"
     ]
    }
   ],
   "source": [
    "import gym\n",
    "import compiler_gym\n",
    "from compiler_gym_wrapper import env_wrapper\n",
    "import torch\n",
    "from ppo_algo import PPO\n",
    "from eval import Evaluation\n",
    "eval_benchmarks = [\"cbench-v1/susan\",\n",
    "                   \"cbench-v1/lame\",\n",
    "                   \"cbench-v1/stringsearch\",\n",
    "                   \"cbench-v1/blowfish\",\n",
    "                   \"cbench-v1/sha\",\n",
    "                   \"cbench-v1/gsm\"]\n",
    "\n",
    "\n",
    "eval_benchmarks = [\"cbench-v1/susan\",\n",
    "                   \"cbench-v1/lame\",\n",
    "                   \"cbench-v1/stringsearch\",\n",
    "                   \"cbench-v1/blowfish\",\n",
    "                   \"cbench-v1/sha\",\n",
    "                   \"cbench-v1/gsm\"]\n",
    "\n",
    "for eval_benchmark in eval_benchmarks:\n",
    "    geo_maxima, geo_averages, evaluate = Evaluation.evaluate([eval_benchmark], model_name=f\"energy_reward_model_Nov30\", print_progress=True,\n",
    "                     max_trials_per_benchmark=1, max_time_per_benchmark=10000, reward_type=\"BOTH\", reward_to_log=\"NRG\")"
   ]
  },
  {
   "cell_type": "code",
   "execution_count": null,
   "metadata": {},
   "outputs": [],
   "source": []
  },
  {
   "cell_type": "markdown",
   "metadata": {},
   "source": [
    "### Evaluate OURS NRG with Size Logs"
   ]
  },
  {
   "cell_type": "code",
   "execution_count": 1,
   "metadata": {},
   "outputs": [
    {
     "name": "stdout",
     "output_type": "stream",
     "text": [
      "Evaluating energy_reward_model_Nov30:\n"
     ]
    },
    {
     "name": "stderr",
     "output_type": "stream",
     "text": [
      "/home/Morphabledrone/test/drew/EnergyAwareLLVM/ppo/eval.py:124: FutureWarning: You are using `torch.load` with `weights_only=False` (the current default value), which uses the default pickle module implicitly. It is possible to construct malicious pickle data which will execute arbitrary code during unpickling (See https://github.com/pytorch/pytorch/blob/main/SECURITY.md#untrusted-models for more details). In a future release, the default value for `weights_only` will be flipped to `True`. This limits the functions that could be executed during unpickling. Arbitrary objects will no longer be allowed to be loaded via this mode unless they are explicitly allowlisted by the user via `torch.serialization.add_safe_globals`. We recommend you start setting `weights_only=True` for any use case where you don't have full control of the loaded file. Please open an issue on GitHub for any issues related to this experimental feature.\n",
      "  model.load_state_dict(torch.load(f\"models/{model_name}.model\"))\n"
     ]
    },
    {
     "name": "stdout",
     "output_type": "stream",
     "text": [
      "Environment: cbench-v1/susan. Found max of 0.19575365155850014 and average of 0.5788284896852885 in 1 trials.\n",
      "Arithmetric mean of maxima: 0.19575365155850014\n",
      "Arithmetric mean of averages: 0.5788284896852885\n",
      "Evaluating energy_reward_model_Nov30:\n"
     ]
    },
    {
     "name": "stderr",
     "output_type": "stream",
     "text": [
      "/home/Morphabledrone/test/drew/EnergyAwareLLVM/ppo/eval.py:124: FutureWarning: You are using `torch.load` with `weights_only=False` (the current default value), which uses the default pickle module implicitly. It is possible to construct malicious pickle data which will execute arbitrary code during unpickling (See https://github.com/pytorch/pytorch/blob/main/SECURITY.md#untrusted-models for more details). In a future release, the default value for `weights_only` will be flipped to `True`. This limits the functions that could be executed during unpickling. Arbitrary objects will no longer be allowed to be loaded via this mode unless they are explicitly allowlisted by the user via `torch.serialization.add_safe_globals`. We recommend you start setting `weights_only=True` for any use case where you don't have full control of the loaded file. Please open an issue on GitHub for any issues related to this experimental feature.\n",
      "  model.load_state_dict(torch.load(f\"models/{model_name}.model\"))\n"
     ]
    },
    {
     "name": "stdout",
     "output_type": "stream",
     "text": [
      "Environment: cbench-v1/lame. Found max of 0.0 and average of 0.541816775559219 in 1 trials.\n",
      "Arithmetric mean of maxima: 0.0\n",
      "Arithmetric mean of averages: 0.541816775559219\n",
      "Evaluating energy_reward_model_Nov30:\n"
     ]
    },
    {
     "name": "stderr",
     "output_type": "stream",
     "text": [
      "/home/Morphabledrone/test/drew/EnergyAwareLLVM/ppo/eval.py:124: FutureWarning: You are using `torch.load` with `weights_only=False` (the current default value), which uses the default pickle module implicitly. It is possible to construct malicious pickle data which will execute arbitrary code during unpickling (See https://github.com/pytorch/pytorch/blob/main/SECURITY.md#untrusted-models for more details). In a future release, the default value for `weights_only` will be flipped to `True`. This limits the functions that could be executed during unpickling. Arbitrary objects will no longer be allowed to be loaded via this mode unless they are explicitly allowlisted by the user via `torch.serialization.add_safe_globals`. We recommend you start setting `weights_only=True` for any use case where you don't have full control of the loaded file. Please open an issue on GitHub for any issues related to this experimental feature.\n",
      "  model.load_state_dict(torch.load(f\"models/{model_name}.model\"))\n"
     ]
    },
    {
     "name": "stdout",
     "output_type": "stream",
     "text": [
      "Environment: cbench-v1/stringsearch. Found max of 0.0 and average of 0.49406528189910986 in 1 trials.\n",
      "Arithmetric mean of maxima: 0.0\n",
      "Arithmetric mean of averages: 0.49406528189910986\n",
      "Evaluating energy_reward_model_Nov30:\n"
     ]
    },
    {
     "name": "stderr",
     "output_type": "stream",
     "text": [
      "/home/Morphabledrone/test/drew/EnergyAwareLLVM/ppo/eval.py:124: FutureWarning: You are using `torch.load` with `weights_only=False` (the current default value), which uses the default pickle module implicitly. It is possible to construct malicious pickle data which will execute arbitrary code during unpickling (See https://github.com/pytorch/pytorch/blob/main/SECURITY.md#untrusted-models for more details). In a future release, the default value for `weights_only` will be flipped to `True`. This limits the functions that could be executed during unpickling. Arbitrary objects will no longer be allowed to be loaded via this mode unless they are explicitly allowlisted by the user via `torch.serialization.add_safe_globals`. We recommend you start setting `weights_only=True` for any use case where you don't have full control of the loaded file. Please open an issue on GitHub for any issues related to this experimental feature.\n",
      "  model.load_state_dict(torch.load(f\"models/{model_name}.model\"))\n"
     ]
    },
    {
     "name": "stdout",
     "output_type": "stream",
     "text": [
      "Environment: cbench-v1/blowfish. Found max of 0.0 and average of 0.43766033863519754 in 1 trials.\n",
      "Arithmetric mean of maxima: 0.0\n",
      "Arithmetric mean of averages: 0.43766033863519754\n",
      "Evaluating energy_reward_model_Nov30:\n"
     ]
    },
    {
     "name": "stderr",
     "output_type": "stream",
     "text": [
      "/home/Morphabledrone/test/drew/EnergyAwareLLVM/ppo/eval.py:124: FutureWarning: You are using `torch.load` with `weights_only=False` (the current default value), which uses the default pickle module implicitly. It is possible to construct malicious pickle data which will execute arbitrary code during unpickling (See https://github.com/pytorch/pytorch/blob/main/SECURITY.md#untrusted-models for more details). In a future release, the default value for `weights_only` will be flipped to `True`. This limits the functions that could be executed during unpickling. Arbitrary objects will no longer be allowed to be loaded via this mode unless they are explicitly allowlisted by the user via `torch.serialization.add_safe_globals`. We recommend you start setting `weights_only=True` for any use case where you don't have full control of the loaded file. Please open an issue on GitHub for any issues related to this experimental feature.\n",
      "  model.load_state_dict(torch.load(f\"models/{model_name}.model\"))\n"
     ]
    },
    {
     "name": "stdout",
     "output_type": "stream",
     "text": [
      "Environment: cbench-v1/sha. Found max of 0.0 and average of 0.5143929912390488 in 1 trials.\n",
      "Arithmetric mean of maxima: 0.0\n",
      "Arithmetric mean of averages: 0.5143929912390488\n",
      "Evaluating energy_reward_model_Nov30:\n"
     ]
    },
    {
     "name": "stderr",
     "output_type": "stream",
     "text": [
      "/home/Morphabledrone/test/drew/EnergyAwareLLVM/ppo/eval.py:124: FutureWarning: You are using `torch.load` with `weights_only=False` (the current default value), which uses the default pickle module implicitly. It is possible to construct malicious pickle data which will execute arbitrary code during unpickling (See https://github.com/pytorch/pytorch/blob/main/SECURITY.md#untrusted-models for more details). In a future release, the default value for `weights_only` will be flipped to `True`. This limits the functions that could be executed during unpickling. Arbitrary objects will no longer be allowed to be loaded via this mode unless they are explicitly allowlisted by the user via `torch.serialization.add_safe_globals`. We recommend you start setting `weights_only=True` for any use case where you don't have full control of the loaded file. Please open an issue on GitHub for any issues related to this experimental feature.\n",
      "  model.load_state_dict(torch.load(f\"models/{model_name}.model\"))\n"
     ]
    },
    {
     "name": "stdout",
     "output_type": "stream",
     "text": [
      "Environment: cbench-v1/gsm. Found max of 0.0 and average of 0.5379143739095422 in 1 trials.\n",
      "Arithmetric mean of maxima: 0.0\n",
      "Arithmetric mean of averages: 0.5379143739095422\n"
     ]
    }
   ],
   "source": [
    "import gym\n",
    "import compiler_gym\n",
    "from compiler_gym_wrapper import env_wrapper\n",
    "import torch\n",
    "from ppo_algo import PPO\n",
    "from eval import Evaluation\n",
    "eval_benchmarks = [\"cbench-v1/susan\",\n",
    "                   \"cbench-v1/lame\",\n",
    "                   \"cbench-v1/stringsearch\",\n",
    "                   \"cbench-v1/blowfish\",\n",
    "                   \"cbench-v1/sha\",\n",
    "                   \"cbench-v1/gsm\"]\n",
    "\n",
    "for eval_benchmark in eval_benchmarks:\n",
    "    geo_maxima, geo_averages, evaluate = Evaluation.evaluate([eval_benchmark], model_name=f\"energy_reward_model_Nov30\", print_progress=True,\n",
    "                     max_trials_per_benchmark=1, max_time_per_benchmark=10000, reward_type=\"NRG\", reward_to_log=\"SIZE\")"
   ]
  },
  {
   "cell_type": "code",
   "execution_count": 7,
   "metadata": {},
   "outputs": [
    {
     "name": "stdout",
     "output_type": "stream",
     "text": [
      "Evaluating defaultNov25:\n"
     ]
    },
    {
     "name": "stderr",
     "output_type": "stream",
     "text": [
      "/home/Morphabledrone/test/drew/EnergyAwareLLVM/ppo/eval.py:124: FutureWarning: You are using `torch.load` with `weights_only=False` (the current default value), which uses the default pickle module implicitly. It is possible to construct malicious pickle data which will execute arbitrary code during unpickling (See https://github.com/pytorch/pytorch/blob/main/SECURITY.md#untrusted-models for more details). In a future release, the default value for `weights_only` will be flipped to `True`. This limits the functions that could be executed during unpickling. Arbitrary objects will no longer be allowed to be loaded via this mode unless they are explicitly allowlisted by the user via `torch.serialization.add_safe_globals`. We recommend you start setting `weights_only=True` for any use case where you don't have full control of the loaded file. Please open an issue on GitHub for any issues related to this experimental feature.\n",
      "  model.load_state_dict(torch.load(f\"models/{model_name}.model\"))\n"
     ]
    },
    {
     "name": "stdout",
     "output_type": "stream",
     "text": [
      "Environment: cbench-v1/gsm. Found max of 0.0 and average of 0.11350073533706047 in 1 trials.\n",
      "Arithmetric mean of maxima: 0.0\n",
      "Arithmetric mean of averages: 0.11350073533706047\n"
     ]
    }
   ],
   "source": [
    "import gym\n",
    "import compiler_gym\n",
    "from compiler_gym_wrapper import env_wrapper\n",
    "import torch\n",
    "# from ppo_algo import PPO\n",
    "from eval import Evaluation\n",
    "eval_benchmarks = [\n",
    "                   \"cbench-v1/gsm\",]\n",
    "\n",
    "for eval_benchmark in eval_benchmarks:\n",
    "    geo_maxima, geo_averages, evaluate = Evaluation.evaluate([eval_benchmark], model_name=f\"defaultNov25\", print_progress=True,\n",
    "                     max_trials_per_benchmark=1, max_time_per_benchmark=10000, reward_type=\"SIZE\", reward_to_log=\"NRG\")"
   ]
  },
  {
   "cell_type": "code",
   "execution_count": null,
   "metadata": {},
   "outputs": [],
   "source": []
  }
 ],
 "metadata": {
  "kernelspec": {
   "display_name": "compile",
   "language": "python",
   "name": "python3"
  },
  "language_info": {
   "codemirror_mode": {
    "name": "ipython",
    "version": 3
   },
   "file_extension": ".py",
   "mimetype": "text/x-python",
   "name": "python",
   "nbconvert_exporter": "python",
   "pygments_lexer": "ipython3",
   "version": "3.8.20"
  }
 },
 "nbformat": 4,
 "nbformat_minor": 2
}
