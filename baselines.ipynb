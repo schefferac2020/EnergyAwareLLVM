{
 "cells": [
  {
   "cell_type": "code",
   "execution_count": null,
   "metadata": {},
   "outputs": [],
   "source": []
  },
  {
   "cell_type": "markdown",
   "metadata": {},
   "source": [
    "# Run an O3/OZ Codesize"
   ]
  },
  {
   "cell_type": "markdown",
   "metadata": {},
   "source": []
  },
  {
   "cell_type": "code",
   "execution_count": 33,
   "metadata": {},
   "outputs": [
    {
     "name": "stdout",
     "output_type": "stream",
     "text": [
      "These are the possible observations:  ObservationView[Autophase, AutophaseDict, Bitcode, BitcodeFile, Buildtime, CpuInfo, Inst2vec, Inst2vecEmbeddingIndices, Inst2vecPreprocessedText, InstCount, InstCountDict, InstCountNorm, InstCountNormDict, Ir, IrInstructionCount, IrInstructionCountO0, IrInstructionCountO3, IrInstructionCountOz, IrSha1, IsBuildable, IsRunnable, LexedIr, LexedIrTuple, ObjectTextSizeBytes, ObjectTextSizeO0, ObjectTextSizeO3, ObjectTextSizeOz, Programl, ProgramlJson, Runtime, TextSizeBytes, TextSizeO0, TextSizeO3, TextSizeOz]\n",
      "Instruction count before -O3: [0.001988]\n",
      "Instruction count after -O3: [0.002385]\n"
     ]
    }
   ],
   "source": [
    "import compiler_gym\n",
    "import time \n",
    "with compiler_gym.make(\"llvm-v0\") as env:\n",
    "    # Specify the benchmark to use (e.g., cbench-v1/dijkstra)\n",
    "    env.reset(\"cbench-v1/dijkstra\")\n",
    "\n",
    "    # Get instruction count before optimization\n",
    "    print(\"These are the possible observations: \", env.observation)\n",
    "    initial_instruction_count = env.observation[\"Runtime\"]\n",
    "    \n",
    "    time.sleep(5)\n",
    "\n",
    "    # Get instruction count after optimization\n",
    "    optimized_instruction_count = env.observation[\"Runtime\"]\n",
    "\n",
    "    # Print the results\n",
    "    print(f\"Instruction count before -O3: {initial_instruction_count}\")\n",
    "    print(f\"Instruction count after -O3: {optimized_instruction_count}\")"
   ]
  },
  {
   "cell_type": "code",
   "execution_count": null,
   "metadata": {},
   "outputs": [],
   "source": []
  },
  {
   "cell_type": "code",
   "execution_count": null,
   "metadata": {},
   "outputs": [],
   "source": []
  }
 ],
 "metadata": {
  "kernelspec": {
   "display_name": "compile",
   "language": "python",
   "name": "python3"
  },
  "language_info": {
   "codemirror_mode": {
    "name": "ipython",
    "version": 3
   },
   "file_extension": ".py",
   "mimetype": "text/x-python",
   "name": "python",
   "nbconvert_exporter": "python",
   "pygments_lexer": "ipython3",
   "version": "3.8.20"
  }
 },
 "nbformat": 4,
 "nbformat_minor": 2
}
